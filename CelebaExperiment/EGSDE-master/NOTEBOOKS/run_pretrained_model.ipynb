{
 "cells": [
  {
   "cell_type": "code",
   "execution_count": null,
   "metadata": {
    "collapsed": true
   },
   "outputs": [],
   "source": [
    "import os\n",
    "from tool.utils import available_devices,format_devices\n",
    "#set device\n",
    "device = available_devices(threshold=10000,n_devices=4)\n",
    "os.environ[\"CUDA_VISIBLE_DEVICES\"] = format_devices(device)\n",
    "from tool.reproducibility import set_seed\n",
    "from tool.utils import dict2namespace\n",
    "import yaml\n",
    "import torch\n",
    "from runners.egsde import EGSDE\n",
    "from tool.interact import set_logger\n",
    "from models.ddpm import Model\n",
    "import os\n",
    "import logging\n",
    "import numpy as np\n",
    "import torch\n",
    "import torch.utils.data as data\n",
    "from models.ddpm import Model\n",
    "from datasets import get_dataset,rescale,inverse_rescale\n",
    "import torchvision.utils as tvu\n",
    "from functions.denoising import egsde_sample\n",
    "from guided_diffusion.script_util import create_model,create_dse\n",
    "from functions.resizer import Resizer\n",
    "from tqdm import tqdm\n",
    "\n",
    "\n",
    "from torchvision.io import read_image\n",
    "import torchvision.transforms as T\n",
    "import torchvision.transforms as transforms\n",
    "from matplotlib import pyplot as plt\n",
    "\n",
    "import torchvision\n",
    "import torchvision.datasets as dataset\n",
    "import torchvision.transforms as transforms"
   ]
  },
  {
   "cell_type": "code",
   "execution_count": null,
   "metadata": {},
   "outputs": [],
   "source": [
    "import argparse\n",
    "argsall = argparse.Namespace(\n",
    "testdata_path='/local/scratch/a/rahman89/PycharmProjects/EGSDE/data/celeba_hq/val/male',\n",
    "ckpt = '/local/scratch/a/rahman89/PycharmProjects/EGSDE/pretrained_model/celebahq_female_ddpm.pth',\n",
    "dsepath = '/local/scratch/a/rahman89/PycharmProjects/EGSDE/pretrained_model/male2female_dse.pt',\n",
    "config_path = '/local/scratch/a/rahman89/PycharmProjects/EGSDE/profiles/male2female/male2female.yml',\n",
    "t = 500,\n",
    "ls =  500.0,\n",
    "li = 2.0,\n",
    "s1 = 'cosine',\n",
    "s2 = 'neg_l2',\n",
    "phase = 'test',\n",
    "root = 'runs/',\n",
    "sample_step= 1,\n",
    "batch_size = 20,\n",
    "diffusionmodel = 'DDPM',\n",
    "down_N = 32,\n",
    "seed=1234)"
   ]
  },
  {
   "cell_type": "code",
   "execution_count": null,
   "metadata": {},
   "outputs": [],
   "source": [
    "\n",
    "\n",
    "task = 'male2female'\n",
    "# from profiles.male2female.args import argsall\n",
    "\n",
    "# args\n",
    "args = argsall\n",
    "set_seed(args.seed)\n",
    "args.samplepath = os.path.join('runs', task)\n",
    "os.makedirs(args.samplepath, exist_ok=True)\n",
    "set_logger(args.samplepath, 'sample.txt')\n",
    "\n",
    "#config\n",
    "with open(args.config_path, \"r\") as f:\n",
    "    config_ = yaml.safe_load(f)\n",
    "config = dict2namespace(config_)\n",
    "config.device = torch.device('cuda') if torch.cuda.is_available() else torch.device('cpu')\n",
    "egsde = EGSDE(args, config)\n",
    "\n",
    "args, config = egsde.args, egsde.config\n"
   ]
  },
  {
   "cell_type": "code",
   "execution_count": null,
   "metadata": {},
   "outputs": [],
   "source": [
    "if args.diffusionmodel == 'DDPM':\n",
    "    model = Model(config)\n",
    "    states = torch.load(egsde.args.ckpt)\n",
    "    model = model.to(egsde.device)\n",
    "    model = torch.nn.DataParallel(model)\n",
    "    model.load_state_dict(states, strict=True)\n",
    "    model.eval()"
   ]
  },
  {
   "cell_type": "code",
   "execution_count": null,
   "metadata": {},
   "outputs": [],
   "source": [
    "#load domain-specific feature extractor\n",
    "dse = create_dse(image_size=config.data.image_size,\n",
    "                 num_class=config.dse.num_class,\n",
    "                 classifier_use_fp16=config.dse.classifier_use_fp16,\n",
    "                 classifier_width=config.dse.classifier_width,\n",
    "                 classifier_depth=config.dse.classifier_depth,\n",
    "                 classifier_attention_resolutions=config.dse.classifier_attention_resolutions,\n",
    "                 classifier_use_scale_shift_norm=config.dse.classifier_use_scale_shift_norm,\n",
    "                 classifier_resblock_updown=config.dse.classifier_resblock_updown,\n",
    "                 classifier_pool=config.dse.classifier_pool,\n",
    "                 phase=args.phase)\n",
    "states = torch.load(args.dsepath)\n",
    "dse.load_state_dict(states)\n",
    "dse.to(egsde.device)\n",
    "dse = torch.nn.DataParallel(dse)\n",
    "dse.eval()\n",
    "\n",
    "\n",
    "#load domain-independent feature extractor\n",
    "shape = (args.batch_size, 3, config.data.image_size, config.data.image_size)\n",
    "shape_d = (\n",
    "    args.batch_size, 3, int(config.data.image_size / args.down_N), int(config.data.image_size / args.down_N))\n",
    "down = Resizer(shape, 1 / args.down_N).to(egsde.device)\n",
    "up = Resizer(shape_d, args.down_N).to(egsde.device)\n",
    "die = (down, up)\n",
    "\n",
    "#create dataset\n",
    "dataset = get_dataset(phase=args.phase,image_size= config.data.image_size, data_path = args.testdata_path)\n",
    "data_loader = data.DataLoader(\n",
    "    dataset,\n",
    "    batch_size=args.batch_size,\n",
    "    shuffle=False,\n",
    "    drop_last=False\n",
    ")"
   ]
  },
  {
   "cell_type": "code",
   "execution_count": null,
   "metadata": {},
   "outputs": [],
   "source": [
    "len(data_loader), args.testdata_path"
   ]
  },
  {
   "cell_type": "code",
   "execution_count": null,
   "metadata": {},
   "outputs": [],
   "source": [
    "\n",
    "original=[]\n",
    "edited=[]\n",
    "\n",
    "for i, (y, name) in enumerate(data_loader):\n",
    "    logging.info(f'batch:{i}/{len(dataset) / args.batch_size}')\n",
    "    n = y.size(0)\n",
    "    y0 = rescale(y).to(egsde.device)\n",
    "    #let x0 be source image\n",
    "    x0 = y0\n",
    "    original.append(x0)\n",
    "    #args.sample_step: the times for repeating EGSDE(usually set 1) (see Appendix A.2)\n",
    "    for it in range(args.sample_step):\n",
    "        e = torch.randn_like(y0)\n",
    "        total_noise_levels = args.t\n",
    "        a = (1 - egsde.betas).cumprod(dim=0)\n",
    "        # the start point M: y ∼ qM|0(y|x0)\n",
    "        y = y0 * a[total_noise_levels - 1].sqrt() + e * (1.0 - a[total_noise_levels - 1]).sqrt()\n",
    "        for i in tqdm(reversed(range(total_noise_levels))):\n",
    "            t = (torch.ones(n) * i).to(egsde.device)\n",
    "            #sample perturbed source image from the perturbation kernel: x ∼ qs|0(x|x0)\n",
    "            xt = x0 * a[i].sqrt() + e * (1.0 - a[i]).sqrt()\n",
    "            # egsde update (see VP-EGSDE in Appendix A.3)\n",
    "            y_ = egsde_sample(y=y, dse=dse,ls=args.ls,die=die,li=args.li,t=t,model=model,\n",
    "                                logvar=egsde.logvar,betas=egsde.betas,xt=xt,s1=args.s1,s2=args.s2, model_name = args.diffusionmodel)\n",
    "            y = y_\n",
    "        y0 = y  #20x3x256x256\n",
    "        y = inverse_rescale(y)\n",
    "        edited.append(y)\n",
    "        #save image\n",
    "        # for b in range(n):\n",
    "        #     os.makedirs(os.path.join(self.args.samplepath, str(it)), exist_ok=True)\n",
    "        #     tvu.save_image(\n",
    "        #         y[b], os.path.join(self.args.samplepath, str(it), name[b])\n",
    "        #     )\n"
   ]
  },
  {
   "cell_type": "code",
   "execution_count": null,
   "metadata": {},
   "outputs": [],
   "source": [
    "from PIL import Image\n",
    "import glob\n",
    "import torchvision\n",
    "from matplotlib import pyplot as plt\n",
    "\n",
    "transform = transforms.Compose([transforms.PILToTensor(),\n",
    "                                transforms.Resize((128,128))])\n",
    "\n"
   ]
  },
  {
   "cell_type": "code",
   "execution_count": null,
   "metadata": {},
   "outputs": [],
   "source": [
    "image_list = []\n",
    "for filename in glob.glob(f'{args.testdata_path}/*.png'): #assuming gif\n",
    "    im=Image.open(filename)\n",
    "    im= transform(im).to(egsde.device)\n",
    "    image_list.append(im.unsqueeze(0))\n",
    "\n",
    "origina_images= image_list[0:20]\n",
    "origina_images = torch.cat(origina_images)\n",
    "\n",
    "grid_img = torchvision.utils.make_grid(origina_images, nrow=4)\n",
    "plt.imshow(grid_img.cpu().permute(1, 2, 0))\n",
    "\n"
   ]
  },
  {
   "cell_type": "code",
   "execution_count": null,
   "metadata": {},
   "outputs": [],
   "source": [
    "image_list = []\n",
    "for filename in glob.glob('/local/scratch/a/rahman89/PycharmProjects/EGSDE/runs/male2female/0/*.png'): #assuming gif\n",
    "    im=Image.open(filename)\n",
    "    im= transform(im).to(egsde.device)\n",
    "    image_list.append(im.unsqueeze(0))\n",
    "\n",
    "edited_images= image_list[0:20]\n",
    "edited_images = torch.cat(edited_images)\n",
    "grid_img = torchvision.utils.make_grid(edited_images, nrow=4)\n",
    "plt.imshow(grid_img.cpu().permute(1, 2, 0))"
   ]
  },
  {
   "cell_type": "code",
   "execution_count": null,
   "metadata": {},
   "outputs": [],
   "source": [
    "edited_images= image_list[0:20]\n",
    "edited_images = torch.cat(edited_images)\n",
    "plt.imshow(edited_images.permute(1,2,0).cpu().numpy())"
   ]
  },
  {
   "cell_type": "code",
   "execution_count": null,
   "metadata": {},
   "outputs": [],
   "source": [
    "\n",
    "\n",
    "\n",
    "grid_img = torchvision.utils.make_grid(edited[0], nrow=4)\n",
    "# grid_img= denorm(grid_img)\n",
    "plt.imshow(grid_img.cpu().permute(1, 2, 0))"
   ]
  },
  {
   "cell_type": "code",
   "execution_count": null,
   "metadata": {},
   "outputs": [],
   "source": [
    "grid_img = torchvision.utils.make_grid(edited[0], nrow=4)\n",
    "# grid_img= denorm(grid_img)\n",
    "plt.imshow(grid_img.cpu().permute(1, 2, 0))"
   ]
  },
  {
   "cell_type": "code",
   "execution_count": null,
   "metadata": {},
   "outputs": [],
   "source": []
  }
 ],
 "metadata": {
  "kernelspec": {
   "display_name": "Python 3 (ipykernel)",
   "language": "python",
   "name": "python3"
  },
  "language_info": {
   "codemirror_mode": {
    "name": "ipython",
    "version": 3
   },
   "file_extension": ".py",
   "mimetype": "text/x-python",
   "name": "python",
   "nbconvert_exporter": "python",
   "pygments_lexer": "ipython3",
   "version": "3.9.7"
  }
 },
 "nbformat": 4,
 "nbformat_minor": 1
}
